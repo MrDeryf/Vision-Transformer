{
  "nbformat": 4,
  "nbformat_minor": 0,
  "metadata": {
    "colab": {
      "provenance": [],
      "toc_visible": true
    },
    "kernelspec": {
      "name": "python3",
      "display_name": "Python 3"
    },
    "language_info": {
      "name": "python"
    }
  },
  "cells": [
    {
      "cell_type": "markdown",
      "source": [
        "#**Семинар 4. Visual attention**\n",
        "\n",
        "**План занятия:**\n",
        "\n",
        "Адаптация трансформера к задаче классификации изображений. Реализация simple ViT.\n"
      ],
      "metadata": {
        "id": "L7e2o4WzTk5H"
      }
    },
    {
      "cell_type": "markdown",
      "source": [
        "Стоит понимать базовый процесс обучения модели.\n",
        "https://pytorch-lightning.readthedocs.io/en/latest/levels/core_skills.html"
      ],
      "metadata": {
        "id": "F6BClQ60woy8"
      }
    },
    {
      "cell_type": "code",
      "source": [],
      "metadata": {
        "id": "lEKno1ZyvNue"
      },
      "execution_count": null,
      "outputs": []
    },
    {
      "cell_type": "markdown",
      "source": [
        "## Visual Transformer"
      ],
      "metadata": {
        "id": "RJWWBnPyV9oe"
      }
    },
    {
      "cell_type": "markdown",
      "source": [
        "[An Image is Worth 16x16 Words: Transformers for Image Recognition at Scale](https://arxiv.org/pdf/2010.11929.pdf)"
      ],
      "metadata": {
        "id": "5qlLVK5QWDTk"
      }
    },
    {
      "cell_type": "markdown",
      "source": [
        "### Positional encoding"
      ],
      "metadata": {
        "id": "nIDDnaMVYIIW"
      }
    },
    {
      "cell_type": "markdown",
      "source": [
        "**Вопрос:** Как можно дать модели информацию о последовательности?"
      ],
      "metadata": {
        "id": "0fnF1D0GsLVx"
      }
    },
    {
      "cell_type": "markdown",
      "source": [
        "**Критерии энкодинга:**\n",
        "\n",
        "1) Уникальное кодирование для каждого слова\n",
        "\n",
        "2) Не должно быть разницы в дельтах между разными по длинне последовательностями\n",
        "\n",
        "3) Обобщение на длинные предложения -> bounded значения\n",
        "\n",
        "4) Детерминированность\n"
      ],
      "metadata": {
        "id": "LDnWNEONuGQT"
      }
    },
    {
      "cell_type": "markdown",
      "source": [
        "Origin - [attention is all you need, part 3.5](https://arxiv.org/pdf/1706.03762.pdf)"
      ],
      "metadata": {
        "id": "5xPVx0TebJpT"
      }
    },
    {
      "cell_type": "code",
      "source": [
        "PE(x,2i) = sin(x/10000^(2i/D))\n",
        "PE(x,2i+1) = cos(x/10000^(2i/D))\n",
        "\n",
        "Where:\n",
        "x is a point in 1d space\n",
        "i is an integer in [0, D/2), where D is the size of the ch dimension"
      ],
      "metadata": {
        "id": "7V59fSFihj9r",
        "colab": {
          "base_uri": "https://localhost:8080/",
          "height": 132
        },
        "outputId": "a4aa3326-155d-49c1-bb3d-6f162a668d0e"
      },
      "execution_count": null,
      "outputs": [
        {
          "output_type": "error",
          "ename": "SyntaxError",
          "evalue": "ignored",
          "traceback": [
            "\u001b[0;36m  File \u001b[0;32m\"<ipython-input-1-0bd74f9c1861>\"\u001b[0;36m, line \u001b[0;32m1\u001b[0m\n\u001b[0;31m    PE(x,2i) = sin(x/10000^(2i/D))\u001b[0m\n\u001b[0m          ^\u001b[0m\n\u001b[0;31mSyntaxError\u001b[0m\u001b[0;31m:\u001b[0m invalid syntax\n"
          ]
        }
      ]
    },
    {
      "cell_type": "markdown",
      "source": [
        "![alt text](https://drive.google.com/uc?export=view&id=1Xdq4ap-eSHjgRnz08KK4UWOmrXSOdOwY)\n",
        "\n",
        "![alt text](https://drive.google.com/uc?export=view&id=1-DrPfHnk1fln_sGN6THRdEDDtSOD9dy1)\n",
        "\n",
        "![alt text](https://drive.google.com/uc?export=view&id=1KKdJVRnSswPi9xOGRZK8IvTBsK5Xw_aN)"
      ],
      "metadata": {
        "id": "kKconZJlYNMi"
      }
    },
    {
      "cell_type": "markdown",
      "source": [
        "\"We chose this function because we hypothesized it would allow the model to easily learn to attend by relative positions, since for any fixed offset k, PEpos+k can be represented as a linear function of PEpos.\"\n",
        "\n",
        "[proof-Relative Positioning](https://kazemnejad.com/blog/transformer_architecture_positional_encoding/)"
      ],
      "metadata": {
        "id": "tRTTIC0hsvi9"
      }
    },
    {
      "cell_type": "markdown",
      "source": [
        "[more examples](https://machinelearningmastery.com/a-gentle-introduction-to-positional-encoding-in-transformer-models-part-1/)"
      ],
      "metadata": {
        "id": "nACGMB80vENZ"
      }
    },
    {
      "cell_type": "markdown",
      "source": [
        "Разделают понятия absolute positional encoding (APE) и relative positional encoding (RPE) - [paper](https://paperswithcode.com/method/relative-position-encodings)\n",
        "\n",
        "[Code](https://github.com/gazelle93/Transformer-Various-Positional-Encoding)"
      ],
      "metadata": {
        "id": "P04cv-YDw5u-"
      }
    },
    {
      "cell_type": "markdown",
      "source": [
        "**Positional encoding в ViT**"
      ],
      "metadata": {
        "id": "gqFAKuKXa4bX"
      }
    },
    {
      "cell_type": "markdown",
      "source": [
        "**Задача:** реализуйте positional_encoding_1d."
      ],
      "metadata": {
        "id": "PLL2yxuE4WCW"
      }
    },
    {
      "cell_type": "code",
      "source": [
        "https://uvadlc-notebooks.readthedocs.io/en/latest/tutorial_notebooks/tutorial6/Transformers_and_MHAttention.html"
      ],
      "metadata": {
        "id": "zdeOES8WMqV1"
      },
      "execution_count": null,
      "outputs": []
    },
    {
      "cell_type": "code",
      "source": [
        "# Дано:\n",
        "# positional_encoding: [1, seq_length, num_dim_to_encode]\n",
        "# _2i: [num_dim_to_encode//2]\n",
        "# position: [seq_length, 1]"
      ],
      "metadata": {
        "id": "W5BnBdEl4d0q"
      },
      "execution_count": null,
      "outputs": []
    },
    {
      "cell_type": "markdown",
      "source": [
        "### ViT"
      ],
      "metadata": {
        "id": "v9wT5zYt5zm-"
      }
    },
    {
      "cell_type": "markdown",
      "source": [
        "![alt text](https://drive.google.com/uc?export=view&id=1J5TvycDPs8pzfvlXvtO5MCFBy64yp9Fa)"
      ],
      "metadata": {
        "id": "8K00xjB46HqL"
      }
    },
    {
      "cell_type": "code",
      "source": [
        "import torch\n",
        "import torch.nn as nn"
      ],
      "metadata": {
        "id": "WTBdjc2I8fKR"
      },
      "execution_count": null,
      "outputs": []
    },
    {
      "cell_type": "code",
      "source": [
        "class MLP(nn.Module):\n",
        "    def __init__(self, in_features, hidden_features=None, out_features=None,\n",
        "                 dropout=0.):\n",
        "        super().__init__()\n",
        "        ...\n",
        "\n",
        "    def forward(self, x):\n",
        "        ...\n",
        "        return x"
      ],
      "metadata": {
        "id": "mz_eLGnQ8lLI"
      },
      "execution_count": null,
      "outputs": []
    },
    {
      "cell_type": "code",
      "source": [
        "class Attention(nn.Module):\n",
        "    def __init__(self, dim, num_heads=8, attn_dropout=0., proj_dropout=0.):\n",
        "        super().__init__()\n",
        "        self.num_heads = num_heads\n",
        "        self.scale = 1./dim**0.5\n",
        "\n",
        "        self.qkv = ...\n",
        "        self.attn_dropout = nn.Dropout(attn_dropout)\n",
        "        self.out = ...\n",
        "\n",
        "    def forward(self, x):\n",
        "        ...\n",
        "        ...\n",
        "        return x"
      ],
      "metadata": {
        "id": "k-5xvhVC8z-z"
      },
      "execution_count": null,
      "outputs": []
    },
    {
      "cell_type": "code",
      "source": [
        "class ImgPatches(nn.Module):\n",
        "    def __init__(self, in_ch=3, embed_dim=768, patch_size=16):\n",
        "        super().__init__()\n",
        "        self.patch_embed = ...\n",
        "\n",
        "    def forward(self, img):\n",
        "        ...\n",
        "        return patches"
      ],
      "metadata": {
        "id": "IOOF2hOM8yFH"
      },
      "execution_count": null,
      "outputs": []
    },
    {
      "cell_type": "code",
      "source": [
        "class Block(nn.Module):\n",
        "    def __init__(self, dim, num_heads=8, mlp_ratio=4, drop_rate=0.):\n",
        "        super().__init__()\n",
        "        ...\n",
        "\n",
        "    def forward(self, x):\n",
        "        ...\n",
        "        return x"
      ],
      "metadata": {
        "id": "lpLgxMIW8vn1"
      },
      "execution_count": null,
      "outputs": []
    },
    {
      "cell_type": "code",
      "source": [
        "class Transformer(nn.Module):\n",
        "    def __init__(self, depth, dim, num_heads=8, mlp_ratio=4, drop_rate=0.):\n",
        "        super().__init__()\n",
        "        self.blocks = nn.ModuleList([\n",
        "            Block(dim, num_heads, mlp_ratio, drop_rate)\n",
        "            for i in range(depth)])\n",
        "\n",
        "    def forward(self, x):\n",
        "        for block in self.blocks:\n",
        "            x = block(x)\n",
        "        return x"
      ],
      "metadata": {
        "id": "gXB54A7U8t1n"
      },
      "execution_count": null,
      "outputs": []
    },
    {
      "cell_type": "code",
      "source": [
        "class ViT(nn.Module):\n",
        "    def __init__(self, img_size=224, patch_size=16, in_ch=3, num_classes=1000,\n",
        "                 embed_dim=768, depth=12, num_heads=12, mlp_ratio=4,\n",
        "                 drop_rate=0.3):\n",
        "        super().__init__()\n",
        "\n",
        "        ...\n",
        "\n",
        "    def forward(self, x):\n",
        "        return x"
      ],
      "metadata": {
        "id": "sFd83yMh8qJP"
      },
      "execution_count": null,
      "outputs": []
    },
    {
      "cell_type": "markdown",
      "source": [
        "## Тренировка"
      ],
      "metadata": {
        "id": "QQGBEUTZy2Hw"
      }
    },
    {
      "cell_type": "code",
      "source": [
        "# conda create --name lec5 python=3.9\n",
        "# conda activate lec5\n",
        "# pip install --quiet \"setuptools==59.5.0\" \"pytorch-lightning>=1.4\" \"matplotlib\" \"torch>=1.8\" \"ipython[notebook]\" \"torchmetrics>=0.7\" \"torchvision\" \"seaborn\""
      ],
      "metadata": {
        "id": "OESJyO6T7dk2"
      },
      "execution_count": null,
      "outputs": []
    },
    {
      "cell_type": "code",
      "source": [],
      "metadata": {
        "id": "w9Y9uiR99eyH"
      },
      "execution_count": null,
      "outputs": []
    }
  ]
}